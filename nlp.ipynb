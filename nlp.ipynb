{
 "cells": [
  {
   "cell_type": "code",
   "execution_count": 2,
   "metadata": {},
   "outputs": [],
   "source": [
    "import time\n",
    "from selenium import webdriver\n",
    "from selenium.webdriver.common.by import By\n",
    "from selenium.webdriver.chrome.service import Service\n",
    "import numpy as np\n",
    "import pandas as pd\n",
    "import logging\n",
    "import sys\n",
    "import re "
   ]
  },
  {
   "cell_type": "code",
   "execution_count": 3,
   "metadata": {},
   "outputs": [],
   "source": [
    "s = Service(\"C:\\\\Users\\\\Dell\\\\Desktop\\\\setting\\\\chromedriver.exe\")  ##download chromedirver to run\n",
    "# logging.basicConfig(format='%asctimne)s | %(levelname)s :  %(message)s', level=logging.INFO, stream=sys.stdout)"
   ]
  },
  {
   "cell_type": "code",
   "execution_count": 18,
   "metadata": {},
   "outputs": [],
   "source": [
    "driver = webdriver.Chrome(service=s)\n",
    "url = \"https://shopee.vn/D%E1%BA%A7u-g%E1%BB%99i-kh%C3%B4-ISSY-150ml-d%E1%BA%A1ng-x%E1%BB%8Bt-an-to%C3%A0n-kh%C3%B4ng-c%E1%BA%A7n-n%C6%B0%E1%BB%9Bc-d%C3%B9ng-cho-nam-n%E1%BB%AF-kh%C3%B4ng-b%E1%BA%BFt-t%C3%B3c-GX28-i.351922288.12618819547\"\n",
    "driver.get(url)\n",
    "time.sleep(3)\n",
    "\n",
    "for n in range(11,16):\n",
    "    driver.execute_script(\"window.scrollTo({top: \"+str(n*1000)+\",behavior: 'smooth'})\")\n",
    "    time.sleep(2)"
   ]
  },
  {
   "cell_type": "code",
   "execution_count": 19,
   "metadata": {},
   "outputs": [
    {
     "ename": "KeyboardInterrupt",
     "evalue": "",
     "output_type": "error",
     "traceback": [
      "\u001b[1;31m---------------------------------------------------------------------------\u001b[0m",
      "\u001b[1;31mKeyboardInterrupt\u001b[0m                         Traceback (most recent call last)",
      "Cell \u001b[1;32mIn [19], line 36\u001b[0m\n\u001b[0;32m     34\u001b[0m \u001b[38;5;28;01mfor\u001b[39;00m e \u001b[38;5;129;01min\u001b[39;00m driver\u001b[38;5;241m.\u001b[39mfind_elements(by\u001b[38;5;241m=\u001b[39mBy\u001b[38;5;241m.\u001b[39mCSS_SELECTOR, value\u001b[38;5;241m=\u001b[39m\u001b[38;5;124m'\u001b[39m\u001b[38;5;124m#main > div > div:nth-child(3) > div.yBgZUE > div > div > div > div.CKGyuW > div.page-product__content > div.page-product__content--left > div:nth-child(2) > div > div.product-ratings__list > div.shopee-page-controller.product-ratings__page-controller > button.shopee-icon-button.shopee-icon-button--right\u001b[39m\u001b[38;5;124m'\u001b[39m):\n\u001b[0;32m     35\u001b[0m     e\u001b[38;5;241m.\u001b[39mclick()\n\u001b[1;32m---> 36\u001b[0m     \u001b[43mtime\u001b[49m\u001b[38;5;241;43m.\u001b[39;49m\u001b[43msleep\u001b[49m\u001b[43m(\u001b[49m\u001b[38;5;241;43m2\u001b[39;49m\u001b[43m)\u001b[49m\n",
      "\u001b[1;31mKeyboardInterrupt\u001b[0m: "
     ]
    }
   ],
   "source": [
    "customer_name = []\n",
    "rating = []\n",
    "comment = []\n",
    "feedback_datetime = []\n",
    "category = []\n",
    "\n",
    "while True:\n",
    "    # try:\n",
    "    for e in driver.find_elements(by=By.CLASS_NAME, value='shopee-product-rating__author-name'):\n",
    "        author = e.text\n",
    "        customer_name.append(author)\n",
    "            \n",
    "    for e in driver.find_elements(by=By.CLASS_NAME, value='shopee-product-rating__rating'):\n",
    "        html = e.get_attribute('innerHTML')\n",
    "        star = html.count('shopee-svg-icon icon-rating-solid--active icon-rating-solid')\n",
    "        rating.append(star)   \n",
    "            \n",
    "    for e in driver.find_elements(by=By.CLASS_NAME, value='_280jKz'):\n",
    "        cmt = e.text.split('\\n')\n",
    "        if pd.isna(cmt[-1]) == False:\n",
    "            comment.append(cmt[-1])\n",
    "        else:\n",
    "            comment.append('')\n",
    "\n",
    "    for e in driver.find_elements(by=By.CLASS_NAME, value='shopee-product-rating__time'):\n",
    "        t = e.text.split(' | ')[0]\n",
    "        try:\n",
    "            cate = e.text.split('ng: ')[1]\n",
    "        except:\n",
    "            cate = ''\n",
    "        feedback_datetime.append(t)\n",
    "        category.append(cate)\n",
    "            \n",
    "    for e in driver.find_elements(by=By.CSS_SELECTOR, value='#main > div > div:nth-child(3) > div.yBgZUE > div > div > div > div.CKGyuW > div.page-product__content > div.page-product__content--left > div:nth-child(2) > div > div.product-ratings__list > div.shopee-page-controller.product-ratings__page-controller > button.shopee-icon-button.shopee-icon-button--right'):\n",
    "        e.click()\n",
    "        time.sleep(2)  \n",
    "    # except:\n",
    "    #     break\n",
    "       "
   ]
  },
  {
   "cell_type": "code",
   "execution_count": 22,
   "metadata": {},
   "outputs": [
    {
     "data": {
      "text/html": [
       "<div>\n",
       "<style scoped>\n",
       "    .dataframe tbody tr th:only-of-type {\n",
       "        vertical-align: middle;\n",
       "    }\n",
       "\n",
       "    .dataframe tbody tr th {\n",
       "        vertical-align: top;\n",
       "    }\n",
       "\n",
       "    .dataframe thead th {\n",
       "        text-align: right;\n",
       "    }\n",
       "</style>\n",
       "<table border=\"1\" class=\"dataframe\">\n",
       "  <thead>\n",
       "    <tr style=\"text-align: right;\">\n",
       "      <th></th>\n",
       "      <th>customer_name</th>\n",
       "      <th>rating</th>\n",
       "      <th>comment</th>\n",
       "      <th>datetime</th>\n",
       "      <th>category</th>\n",
       "    </tr>\n",
       "  </thead>\n",
       "  <tbody>\n",
       "    <tr>\n",
       "      <th>0</th>\n",
       "      <td>n*****3</td>\n",
       "      <td>1</td>\n",
       "      <td>giao hàng lâu, mùi thì thơm nhưng xịt lên như ...</td>\n",
       "      <td>2021-11-25 17:57</td>\n",
       "      <td>ĐỎ</td>\n",
       "    </tr>\n",
       "    <tr>\n",
       "      <th>1</th>\n",
       "      <td>01666638196qh</td>\n",
       "      <td>1</td>\n",
       "      <td>Dầu gội khô nqyf ch dùng thì chưa biét đánh gi...</td>\n",
       "      <td>2021-11-28 12:22</td>\n",
       "      <td>XANH</td>\n",
       "    </tr>\n",
       "    <tr>\n",
       "      <th>2</th>\n",
       "      <td>t*****a</td>\n",
       "      <td>1</td>\n",
       "      <td>hàng về lâu lắm luôn. sp dùng nhưng nó vẫn bết...</td>\n",
       "      <td>2022-01-01 10:32</td>\n",
       "      <td>HỒNG</td>\n",
       "    </tr>\n",
       "    <tr>\n",
       "      <th>3</th>\n",
       "      <td>lzgl86574z</td>\n",
       "      <td>1</td>\n",
       "      <td>Hình ảnh và video chỉ mang tính chất lấy xu</td>\n",
       "      <td>2021-11-03 19:25</td>\n",
       "      <td>XANH</td>\n",
       "    </tr>\n",
       "    <tr>\n",
       "      <th>4</th>\n",
       "      <td>b*****2</td>\n",
       "      <td>1</td>\n",
       "      <td>Không ưng tý nào</td>\n",
       "      <td>2021-12-19 12:07</td>\n",
       "      <td>HỒNG</td>\n",
       "    </tr>\n",
       "  </tbody>\n",
       "</table>\n",
       "</div>"
      ],
      "text/plain": [
       "   customer_name  rating                                            comment  \\\n",
       "0        n*****3       1  giao hàng lâu, mùi thì thơm nhưng xịt lên như ...   \n",
       "1  01666638196qh       1  Dầu gội khô nqyf ch dùng thì chưa biét đánh gi...   \n",
       "2        t*****a       1  hàng về lâu lắm luôn. sp dùng nhưng nó vẫn bết...   \n",
       "3     lzgl86574z       1        Hình ảnh và video chỉ mang tính chất lấy xu   \n",
       "4        b*****2       1                                   Không ưng tý nào   \n",
       "\n",
       "           datetime category  \n",
       "0  2021-11-25 17:57       ĐỎ  \n",
       "1  2021-11-28 12:22     XANH  \n",
       "2  2022-01-01 10:32     HỒNG  \n",
       "3  2021-11-03 19:25     XANH  \n",
       "4  2021-12-19 12:07     HỒNG  "
      ]
     },
     "execution_count": 22,
     "metadata": {},
     "output_type": "execute_result"
    }
   ],
   "source": [
    "df_feedback = pd.DataFrame({\"customer_name\":customer_name[:23]\n",
    "                            ,\"rating\": rating[:23]\n",
    "                            ,\"comment\": comment\n",
    "                            ,\"datetime\": feedback_datetime[:23]\n",
    "                            ,\"category\": category[:23]})\n",
    "df_feedback.head()"
   ]
  },
  {
   "cell_type": "code",
   "execution_count": 21,
   "metadata": {},
   "outputs": [
    {
     "data": {
      "text/plain": [
       "23"
      ]
     },
     "execution_count": 21,
     "metadata": {},
     "output_type": "execute_result"
    }
   ],
   "source": [
    "len(comment)"
   ]
  },
  {
   "cell_type": "code",
   "execution_count": 23,
   "metadata": {},
   "outputs": [],
   "source": [
    "df_feedback.to_csv('data.csv')"
   ]
  }
 ],
 "metadata": {
  "kernelspec": {
   "display_name": "Python 3.10.7 64-bit (microsoft store)",
   "language": "python",
   "name": "python3"
  },
  "language_info": {
   "codemirror_mode": {
    "name": "ipython",
    "version": 3
   },
   "file_extension": ".py",
   "mimetype": "text/x-python",
   "name": "python",
   "nbconvert_exporter": "python",
   "pygments_lexer": "ipython3",
   "version": "3.10.7"
  },
  "orig_nbformat": 4,
  "vscode": {
   "interpreter": {
    "hash": "9e35676d33e03a9093a17dc7760f2b2aa4960ff6d3c0d7dc06348afdc0ca22c8"
   }
  }
 },
 "nbformat": 4,
 "nbformat_minor": 2
}
